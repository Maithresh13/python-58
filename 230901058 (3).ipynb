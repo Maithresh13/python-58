{
 "cells": [
  {
   "cell_type": "code",
   "execution_count": 1,
   "id": "4b052982-b8b1-44fc-a7bb-99cf3558fa7a",
   "metadata": {},
   "outputs": [
    {
     "name": "stdout",
     "output_type": "stream",
     "text": [
      "\n",
      " one dimensional array \n",
      " [1 2 3 4]\n"
     ]
    }
   ],
   "source": [
    "import numpy as np\n",
    "a=np.array([1,2,3,4])\n",
    "print(\"\\n one dimensional array \\n\",a)"
   ]
  },
  {
   "cell_type": "code",
   "execution_count": null,
   "id": "3c3470bb-f875-4b3a-b1a8-32774bad8701",
   "metadata": {},
   "outputs": [],
   "source": []
  },
  {
   "cell_type": "code",
   "execution_count": 2,
   "id": "ed45825e-d4d6-4534-9b02-0170b84d8f08",
   "metadata": {},
   "outputs": [
    {
     "name": "stdout",
     "output_type": "stream",
     "text": [
      "\n",
      " two dimensional array \n",
      " [[1 2 3 4]\n",
      " [5 6 7 8]]\n"
     ]
    }
   ],
   "source": [
    "import numpy as np\n",
    "a=np.array([[1,2,3,4],[5,6,7,8]])\n",
    "print(\"\\n two dimensional array \\n\",a)"
   ]
  },
  {
   "cell_type": "code",
   "execution_count": null,
   "id": "611fbb52-e9be-40b7-a1ee-6ce0da96e0aa",
   "metadata": {},
   "outputs": [],
   "source": []
  },
  {
   "cell_type": "code",
   "execution_count": 3,
   "id": "e1d782bd-ee97-49f7-963b-73925fb179d6",
   "metadata": {},
   "outputs": [
    {
     "name": "stdout",
     "output_type": "stream",
     "text": [
      "\n",
      " three dimensional array \n",
      " [[ 1  2  3  4]\n",
      " [ 5  6  7  8]\n",
      " [ 9 10 11 12]]\n"
     ]
    }
   ],
   "source": [
    "import numpy as np\n",
    "a=np.array([[1,2,3,4],[5,6,7,8],[9,10,11,12]])\n",
    "print(\"\\n three dimensional array \\n\",a)"
   ]
  },
  {
   "cell_type": "code",
   "execution_count": null,
   "id": "b461dd6b-33c9-4be2-8edb-7ca03446604d",
   "metadata": {},
   "outputs": [],
   "source": []
  },
  {
   "cell_type": "code",
   "execution_count": 4,
   "id": "d11ea48d-f76e-4467-87ae-3f3397dcc712",
   "metadata": {},
   "outputs": [
    {
     "name": "stdout",
     "output_type": "stream",
     "text": [
      "\n",
      " value with all zeros \n",
      " [[0. 0. 0.]\n",
      " [0. 0. 0.]]\n"
     ]
    }
   ],
   "source": [
    "import numpy as np\n",
    "a=np.zeros((2,3))\n",
    "print(\"\\n value with all zeros \\n\",a)"
   ]
  },
  {
   "cell_type": "code",
   "execution_count": null,
   "id": "69c83acd-6abc-47c9-9b27-21efb31eb581",
   "metadata": {},
   "outputs": [],
   "source": []
  },
  {
   "cell_type": "code",
   "execution_count": 6,
   "id": "cb5e01d2-2996-4784-8c32-677b6ef11fa2",
   "metadata": {},
   "outputs": [
    {
     "name": "stdout",
     "output_type": "stream",
     "text": [
      "\n",
      " sequence array \n",
      " [ 8 11 14 17 20 23 26]\n"
     ]
    }
   ],
   "source": [
    "import numpy as np\n",
    "a=np.arange(8,29,3)\n",
    "print(\"\\n sequence array \\n\",a)"
   ]
  },
  {
   "cell_type": "code",
   "execution_count": null,
   "id": "de291960-3fd0-40a1-ac44-695404b493fc",
   "metadata": {},
   "outputs": [],
   "source": []
  },
  {
   "cell_type": "code",
   "execution_count": 8,
   "id": "eaeaf340-14c7-484a-8dff-929f3539e576",
   "metadata": {},
   "outputs": [
    {
     "name": "stdout",
     "output_type": "stream",
     "text": [
      "\n",
      " original array \n",
      " [[ 1  2  3  4]\n",
      " [ 5  6  7  8]\n",
      " [ 9 10 11 12]]\n",
      "\n",
      " reshaped array \n",
      " [[ 1  2  3]\n",
      " [ 4  5  6]\n",
      " [ 7  8  9]\n",
      " [10 11 12]]\n"
     ]
    }
   ],
   "source": [
    "import numpy as np\n",
    "m=np.array([[1,2,3,4],[5,6,7,8],[9,10,11,12]])\n",
    "newarr=m.reshape(4,3)\n",
    "print(\"\\n original array \\n\",m)\n",
    "print(\"\\n reshaped array \\n\",newarr)"
   ]
  },
  {
   "cell_type": "code",
   "execution_count": 9,
   "id": "0300974e-5d33-4893-87bf-f3ed015d6335",
   "metadata": {},
   "outputs": [
    {
     "name": "stdout",
     "output_type": "stream",
     "text": [
      "\n",
      " random value \n",
      " [[0.81146573 0.71433139 0.35010373]\n",
      " [0.95278343 0.38127397 0.33656372]]\n"
     ]
    }
   ],
   "source": [
    "import numpy as np\n",
    "a=np.random.random((2,3))\n",
    "print(\"\\n random value \\n\",a)"
   ]
  },
  {
   "cell_type": "code",
   "execution_count": 8,
   "id": "12cbde31-624b-472b-b80e-a6591d691955",
   "metadata": {},
   "outputs": [
    {
     "name": "stdout",
     "output_type": "stream",
     "text": [
      "\n",
      " original array \n",
      " [[1 2 3 4]\n",
      " [5 6 7 8]]\n",
      "\n",
      " flattened array \n",
      " [1 2 3 4 5 6 7 8]\n"
     ]
    }
   ],
   "source": [
    "import numpy as np\n",
    "m=np.array([[1,2,3,4],[5,6,7,8]])\n",
    "flat=m.flatten()\n",
    "print(\"\\n original array \\n\",m)\n",
    "print(\"\\n flattened array \\n\",flat)"
   ]
  },
  {
   "cell_type": "code",
   "execution_count": 16,
   "id": "cc0bd5c6-d6c7-48dc-8c1a-7fa36339e24b",
   "metadata": {},
   "outputs": [
    {
     "name": "stdout",
     "output_type": "stream",
     "text": [
      "\n",
      " no of dimensions \n",
      " 3\n"
     ]
    }
   ],
   "source": [
    "import numpy as np\n",
    "m=np.array([[[1,2,3],[4,5,6]],[[7,8,9],[10,11,12]]])\n",
    "print(\"\\n no of dimensions \\n\",m.ndim)"
   ]
  },
  {
   "cell_type": "code",
   "execution_count": 17,
   "id": "8675640d-f621-4e88-a5b9-6b1563f93e0c",
   "metadata": {},
   "outputs": [
    {
     "name": "stdout",
     "output_type": "stream",
     "text": [
      "\n",
      " shape of array \n",
      " (3, 4)\n"
     ]
    }
   ],
   "source": [
    "import numpy as np\n",
    "m=np.array([[1,2,3,4],[5,6,7,8],[9,10,11,12]])\n",
    "print(\"\\n shape of array \\n\",m.shape)"
   ]
  },
  {
   "cell_type": "code",
   "execution_count": 18,
   "id": "9f73276c-40fb-46fe-a69a-47d75e8a13b9",
   "metadata": {},
   "outputs": [
    {
     "name": "stdout",
     "output_type": "stream",
     "text": [
      "\n",
      " element type \n",
      " int64\n"
     ]
    }
   ],
   "source": [
    "import numpy as np\n",
    "m=np.array([[1,2,3,4],[5,6,7,8],[9,10,11,12]])\n",
    "print(\"\\n element type \\n\",m.dtype)"
   ]
  },
  {
   "cell_type": "code",
   "execution_count": 19,
   "id": "87d8e7a0-b36a-4594-91dd-a239e73e39e9",
   "metadata": {},
   "outputs": [
    {
     "name": "stdout",
     "output_type": "stream",
     "text": [
      "\n",
      " size of array \n",
      " 6\n"
     ]
    }
   ],
   "source": [
    "import numpy as np\n",
    "m=np.array([[1,2,3],[4,5,6]])\n",
    "size=len(m)\n",
    "print(\"\\n size of array \\n\",m.size)"
   ]
  },
  {
   "cell_type": "code",
   "execution_count": null,
   "id": "f6740a9e-3673-482f-b195-2608833d9e60",
   "metadata": {},
   "outputs": [],
   "source": []
  }
 ],
 "metadata": {
  "kernelspec": {
   "display_name": "Python 3 (ipykernel)",
   "language": "python",
   "name": "python3"
  },
  "language_info": {
   "codemirror_mode": {
    "name": "ipython",
    "version": 3
   },
   "file_extension": ".py",
   "mimetype": "text/x-python",
   "name": "python",
   "nbconvert_exporter": "python",
   "pygments_lexer": "ipython3",
   "version": "3.11.5"
  }
 },
 "nbformat": 4,
 "nbformat_minor": 5
}
