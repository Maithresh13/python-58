{
 "cells": [
  {
   "cell_type": "code",
   "execution_count": 3,
   "id": "0ea498f2-f0d7-4fc2-bde2-fd153c9a1724",
   "metadata": {},
   "outputs": [
    {
     "name": "stdout",
     "output_type": "stream",
     "text": [
      "\n",
      " Random Values :\n",
      " [[0.75686491 0.38155596 0.83339695 0.19754408]\n",
      " [0.6779637  0.02613233 0.66904946 0.76272944]\n",
      " [0.17548205 0.46815731 0.34557373 0.26233129]]\n"
     ]
    }
   ],
   "source": [
    "import numpy as np\n",
    "a=np.random.random((3,4))\n",
    "print(\"\\n Random Values :\\n\",a)"
   ]
  },
  {
   "cell_type": "raw",
   "id": "11ef5b80-bce3-4626-8a1b-c1044d8e0e51",
   "metadata": {},
   "source": [
    "a=np.arange(5,30,2)\n",
    "print(\"\\nSequence Array:\\n\",a)"
   ]
  },
  {
   "cell_type": "code",
   "execution_count": 6,
   "id": "94ea9a25-915c-4e2c-bb12-24c6eea3fbd2",
   "metadata": {},
   "outputs": [
    {
     "name": "stdout",
     "output_type": "stream",
     "text": [
      "\n",
      " Array with all Zeros:\n",
      " [[0. 0. 0. 0.]\n",
      " [0. 0. 0. 0.]\n",
      " [0. 0. 0. 0.]]\n"
     ]
    }
   ],
   "source": [
    "a=np.zeros((3,4))\n",
    "print(\"\\n Array with all Zeros:\\n\",a)"
   ]
  },
  {
   "cell_type": "code",
   "execution_count": 9,
   "id": "14961900-122b-4c86-842a-ac196de9cb5d",
   "metadata": {},
   "outputs": [
    {
     "name": "stdout",
     "output_type": "stream",
     "text": [
      "\n",
      " Shape of array :\n",
      " (2, 3)\n",
      "\n",
      " No of Dimensions :\n",
      " 2\n",
      "\n",
      " Element type:\n",
      " int64\n"
     ]
    }
   ],
   "source": [
    "m=np.array([[10,20,30],[40,50,60]])\n",
    "print(\"\\n Shape of array :\\n\",m.shape)\n",
    "print(\"\\n No of Dimensions :\\n\",m.ndim)\n",
    "print(\"\\n Element type:\\n\",m.dtype)"
   ]
  },
  {
   "cell_type": "code",
   "execution_count": 10,
   "id": "7988da29-3762-419e-8fca-b702f7e2709e",
   "metadata": {},
   "outputs": [
    {
     "name": "stdout",
     "output_type": "stream",
     "text": [
      "\n",
      " Flattened Array \n",
      " [10 20 30 40 50 60]\n"
     ]
    }
   ],
   "source": [
    "flat=m.flatten()\n",
    "print(\"\\n Flattened Array \\n\",flat)"
   ]
  },
  {
   "cell_type": "code",
   "execution_count": null,
   "id": "b1645fc0-cdfe-46f0-8133-d721b20008a0",
   "metadata": {},
   "outputs": [],
   "source": []
  }
 ],
 "metadata": {
  "kernelspec": {
   "display_name": "Python 3 (ipykernel)",
   "language": "python",
   "name": "python3"
  },
  "language_info": {
   "codemirror_mode": {
    "name": "ipython",
    "version": 3
   },
   "file_extension": ".py",
   "mimetype": "text/x-python",
   "name": "python",
   "nbconvert_exporter": "python",
   "pygments_lexer": "ipython3",
   "version": "3.11.5"
  }
 },
 "nbformat": 4,
 "nbformat_minor": 5
}
