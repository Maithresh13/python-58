{
 "cells": [
  {
   "cell_type": "code",
   "execution_count": 2,
   "id": "ba3c85bc-5f2a-449b-9717-6481dc39c4c8",
   "metadata": {},
   "outputs": [
    {
     "name": "stdout",
     "output_type": "stream",
     "text": [
      "[20 40 50 70 10]\n",
      "[6 2 9 7 1]\n",
      "[26 42 59 77 11]\n",
      "[14 38 41 63  9]\n",
      "[120  80 450 490  10]\n",
      "[ 3.33333333 20.          5.55555556 10.         10.        ]\n"
     ]
    }
   ],
   "source": [
    "import numpy as np\n",
    "a=[20,40,50,70,10]\n",
    "b=[6,2,9,7,1]\n",
    "m=np.array(a)\n",
    "k=np.array(b)\n",
    "print(m)\n",
    "print(k)\n",
    "print(m+k)\n",
    "print(m-k)\n",
    "print(m*k)\n",
    "print(m/k)"
   ]
  },
  {
   "cell_type": "code",
   "execution_count": 5,
   "id": "f791c320-3c86-458d-882d-c5b558ff950f",
   "metadata": {},
   "outputs": [
    {
     "name": "stdout",
     "output_type": "stream",
     "text": [
      "1150\n",
      "scalar value: 3\n",
      "array: [20 40 50 70 10]\n",
      "result: [ 60 120 150 210  30]\n"
     ]
    }
   ],
   "source": [
    "print(m.dot(k))\n",
    "sclr=3\n",
    "print(\"scalar value:\",sclr)\n",
    "print(\"array:\",m)\n",
    "print(\"result:\",m*sclr)\n",
    "      "
   ]
  },
  {
   "cell_type": "code",
   "execution_count": 6,
   "id": "21dbc435-76fb-4d3d-90b8-d958cb1b36eb",
   "metadata": {},
   "outputs": [
    {
     "name": "stdout",
     "output_type": "stream",
     "text": [
      "[[1 6]\n",
      " [0 4]]\n"
     ]
    }
   ],
   "source": [
    "import numpy as np\n",
    "a=np.array([[10,20],[30,40]])\n",
    "b=np.array([[3,7],[5,9]])\n",
    "print(a%b)"
   ]
  },
  {
   "cell_type": "code",
   "execution_count": 11,
   "id": "63a1d141-1c06-4a2b-87a2-bb531c5ef884",
   "metadata": {},
   "outputs": [
    {
     "name": "stdout",
     "output_type": "stream",
     "text": [
      "array 1: [10, 7, 2]\n",
      "array 2: [6, 5, 3]\n",
      "result: [4 2 5]\n"
     ]
    }
   ],
   "source": [
    "def my_func(x,y):\n",
    "    if x>y:\n",
    "        return x-y\n",
    "    else:\n",
    "        return x+y\n",
    "arr1=[10,7,2]\n",
    "arr2=[6,5,3]\n",
    "vect_func=np.vectorize(my_func)\n",
    "print(\"array 1:\",arr1)\n",
    "print(\"array 2:\",arr2)\n",
    "print(\"result:\",vect_func(arr1,arr2))"
   ]
  },
  {
   "cell_type": "code",
   "execution_count": null,
   "id": "b4bdfe24-87e4-49d8-aa28-88dd92a3862c",
   "metadata": {},
   "outputs": [],
   "source": []
  },
  {
   "cell_type": "code",
   "execution_count": null,
   "id": "6378f48a-e982-406e-a9f0-88b8785e0a93",
   "metadata": {},
   "outputs": [],
   "source": []
  }
 ],
 "metadata": {
  "kernelspec": {
   "display_name": "Python 3 (ipykernel)",
   "language": "python",
   "name": "python3"
  },
  "language_info": {
   "codemirror_mode": {
    "name": "ipython",
    "version": 3
   },
   "file_extension": ".py",
   "mimetype": "text/x-python",
   "name": "python",
   "nbconvert_exporter": "python",
   "pygments_lexer": "ipython3",
   "version": "3.11.5"
  }
 },
 "nbformat": 4,
 "nbformat_minor": 5
}
