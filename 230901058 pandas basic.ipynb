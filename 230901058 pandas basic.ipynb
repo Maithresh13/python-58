{
 "cells": [
  {
   "cell_type": "code",
   "execution_count": 4,
   "id": "2b2caec5-409d-40d7-87df-e2c40d59887f",
   "metadata": {},
   "outputs": [
    {
     "name": "stdout",
     "output_type": "stream",
     "text": [
      "Empty DataFrame\n",
      "Columns: []\n",
      "Index: []\n"
     ]
    }
   ],
   "source": [
    "import pandas as pd\n",
    "a=pd.DataFrame()\n",
    "print(a)"
   ]
  },
  {
   "cell_type": "code",
   "execution_count": 20,
   "id": "e732019e-b65d-473d-9592-c98dce3fef77",
   "metadata": {},
   "outputs": [
    {
     "name": "stdout",
     "output_type": "stream",
     "text": [
      "slice rows:\n",
      "        Emp  ID  Age\n",
      "1  Ronaldo  20   39\n",
      "2   Mighty  30   18\n"
     ]
    }
   ],
   "source": [
    "print(\"slice rows:\\n\",result[1:3])"
   ]
  },
  {
   "cell_type": "code",
   "execution_count": 18,
   "id": "cf8f0d25-10c8-4d82-9eb5-6e3b91cf0843",
   "metadata": {},
   "outputs": [
    {
     "name": "stdout",
     "output_type": "stream",
     "text": [
      "\n",
      " extracting the second row\n",
      "\n",
      "Emp    Ronaldo\n",
      "ID          20\n",
      "Age         39\n",
      "Name: 1, dtype: object\n"
     ]
    }
   ],
   "source": [
    "emp=pd.Series(['Kohli','Ronaldo','Mighty','Pandya'])\n",
    "id=pd.Series([10,20,30,40])\n",
    "age=pd.Series([36,39,18,29])\n",
    "frame={'Emp':emp,'ID':id,'Age':age}\n",
    "result=pd.DataFrame(frame)\n",
    "print(\"\\n extracting the second row\\n\")\n",
    "print(result.loc[1])\n"
   ]
  },
  {
   "cell_type": "code",
   "execution_count": null,
   "id": "92c846d7-7ec0-400d-9a42-a9f4c5c71ebd",
   "metadata": {},
   "outputs": [],
   "source": []
  },
  {
   "cell_type": "code",
   "execution_count": 14,
   "id": "251714d0-00d3-4153-a43c-bc8c09552aff",
   "metadata": {},
   "outputs": [
    {
     "name": "stdout",
     "output_type": "stream",
     "text": [
      "\n",
      " series to dataframe\n",
      "\n",
      "       Emp  ID\n",
      "0    Kohli  10\n",
      "1  Ronaldo  20\n",
      "2   Mighty  30\n",
      "3   Pandya  40\n"
     ]
    }
   ],
   "source": [
    "emp=pd.Series(['Kohli','Ronaldo','Mighty','Pandya'])\n",
    "id=pd.Series([10,20,30,40])\n",
    "age=pd.Series([36,39,18,29])\n",
    "frame={'Emp':emp,'ID':id,'Age':age}\n",
    "result=pd.DataFrame(frame)\n",
    "print(\"\\n series to dataframe\\n\")\n",
    "del result['Age']\n",
    "print(result)"
   ]
  },
  {
   "cell_type": "code",
   "execution_count": 26,
   "id": "0b155ded-6bd2-46d1-aed6-9ca2770f8ca1",
   "metadata": {},
   "outputs": [
    {
     "name": "stdout",
     "output_type": "stream",
     "text": [
      "\n",
      " adding new row values\n",
      "        Emp    ID   Age   EMP    iD\n",
      "0    Kohli  10.0  36.0   NaN   NaN\n",
      "1  Ronaldo  20.0  39.0   NaN   NaN\n",
      "2   Mighty  30.0  18.0   NaN   NaN\n",
      "3   Pandya  40.0  29.0   NaN   NaN\n",
      "0      NaN   NaN   NaN   anu  20.0\n",
      "1      NaN   NaN   NaN  vinu  18.0\n"
     ]
    }
   ],
   "source": []
  },
  {
   "cell_type": "code",
   "execution_count": 27,
   "id": "bc44f271-949b-40be-9597-abcd9315379d",
   "metadata": {},
   "outputs": [
    {
     "name": "stdout",
     "output_type": "stream",
     "text": [
      "\n",
      " series to dataframe\n",
      "\n",
      "       Emp  ID\n",
      "0    Kohli  10\n",
      "1  Ronaldo  20\n",
      "2   Mighty  30\n",
      "3   Pandya  40\n"
     ]
    }
   ],
   "source": [
    "emp=pd.Series(['Kohli','Ronaldo','Mighty','Pandya'])\n",
    "id=pd.Series([10,20,30,40])\n",
    "age=pd.Series([36,39,18,29])\n",
    "frame={'Emp':emp,'ID':id,'Age':age}\n",
    "result=pd.DataFrame(frame)\n",
    "print(\"\\n series to dataframe\\n\")\n",
    "del result['Age']\n",
    "print(result)"
   ]
  },
  {
   "cell_type": "code",
   "execution_count": null,
   "id": "3251448d-ffa6-48ab-8da5-4d64bdbdff9f",
   "metadata": {},
   "outputs": [],
   "source": []
  },
  {
   "cell_type": "code",
   "execution_count": null,
   "id": "78a3221c-a8c7-4c13-8c1b-338f876b296d",
   "metadata": {},
   "outputs": [],
   "source": []
  },
  {
   "cell_type": "code",
   "execution_count": null,
   "id": "570d4d95-84b3-47a9-91c5-69ab6bc95c39",
   "metadata": {},
   "outputs": [],
   "source": []
  }
 ],
 "metadata": {
  "kernelspec": {
   "display_name": "Python 3 (ipykernel)",
   "language": "python",
   "name": "python3"
  },
  "language_info": {
   "codemirror_mode": {
    "name": "ipython",
    "version": 3
   },
   "file_extension": ".py",
   "mimetype": "text/x-python",
   "name": "python",
   "nbconvert_exporter": "python",
   "pygments_lexer": "ipython3",
   "version": "3.11.5"
  }
 },
 "nbformat": 4,
 "nbformat_minor": 5
}
