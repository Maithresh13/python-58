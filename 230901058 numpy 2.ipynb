{
 "cells": [
  {
   "cell_type": "code",
   "execution_count": 12,
   "id": "74bf8ee8-6a83-4bb6-a692-c24f058bdcc4",
   "metadata": {},
   "outputs": [
    {
     "name": "stdout",
     "output_type": "stream",
     "text": [
      "[3 4 5 6]\n"
     ]
    }
   ],
   "source": [
    "import numpy as np\n",
    "m=np.array([1,2,3,4,5,6,7,8,9])\n",
    "slice1=m[2:6]\n",
    "print(slice1)"
   ]
  },
  {
   "cell_type": "code",
   "execution_count": 5,
   "id": "cbbe4b6f-f5d7-460d-8995-ec3817b8de80",
   "metadata": {},
   "outputs": [
    {
     "name": "stdout",
     "output_type": "stream",
     "text": [
      "[1 3 5 7 9]\n"
     ]
    }
   ],
   "source": [
    "slice2=m[::2]\n",
    "print(slice2)"
   ]
  },
  {
   "cell_type": "code",
   "execution_count": 7,
   "id": "8243d2fa-eec0-4b76-b280-11c59eb77a1f",
   "metadata": {},
   "outputs": [
    {
     "name": "stdout",
     "output_type": "stream",
     "text": [
      "[1 4 7]\n"
     ]
    }
   ],
   "source": [
    "slice3=m[::3]\n",
    "print(slice3)"
   ]
  },
  {
   "cell_type": "code",
   "execution_count": 9,
   "id": "a00bd393-57a8-472f-a8fd-076598e659d9",
   "metadata": {},
   "outputs": [
    {
     "name": "stdout",
     "output_type": "stream",
     "text": [
      "[9 8 7 6 5 4 3 2 1]\n"
     ]
    }
   ],
   "source": [
    "reversed_arr=m[::-1]\n",
    "print(reversed_arr)"
   ]
  },
  {
   "cell_type": "code",
   "execution_count": 10,
   "id": "831c06c0-00e4-457e-81fe-d72c07e719b8",
   "metadata": {},
   "outputs": [
    {
     "name": "stdout",
     "output_type": "stream",
     "text": [
      "[[2 3]\n",
      " [5 6]]\n"
     ]
    }
   ],
   "source": [
    "m=np.array([[1,2,3],[4,5,6],[7,8,9]])\n",
    "subarray=m[0:2,1:3]\n",
    "print(subarray)"
   ]
  },
  {
   "cell_type": "code",
   "execution_count": 15,
   "id": "5e20aab0-4761-47f0-a78b-8f0cac5bfc18",
   "metadata": {},
   "outputs": [
    {
     "name": "stdout",
     "output_type": "stream",
     "text": [
      "[[1 2 3]\n",
      " [4 5 6]]\n"
     ]
    }
   ],
   "source": [
    "m=np.array([[1,2,3],[4,5,6],[7,8,9]])\n",
    "subarray=m[:2,:3]\n",
    "print(subarray)"
   ]
  },
  {
   "cell_type": "code",
   "execution_count": 23,
   "id": "0538fc7b-aeef-4ee3-a0c5-b62fec5ed779",
   "metadata": {},
   "outputs": [
    {
     "name": "stdout",
     "output_type": "stream",
     "text": [
      "[1 4 7]\n"
     ]
    }
   ],
   "source": [
    "m=np.array([[1,2,3],[4,5,6],[7,8,9]])\n",
    "col1=m[:,0]\n",
    "print(col1)"
   ]
  },
  {
   "cell_type": "code",
   "execution_count": 26,
   "id": "c1bd3e80-72ff-45e4-9905-9e3466f496b3",
   "metadata": {},
   "outputs": [
    {
     "name": "stdout",
     "output_type": "stream",
     "text": [
      "[1 2 3]\n"
     ]
    }
   ],
   "source": [
    "m=np.array([[1,2,3],[4,5,6],[7,8,9]])\n",
    "row1=m[0,:]\n",
    "print(row1)"
   ]
  },
  {
   "cell_type": "code",
   "execution_count": 28,
   "id": "33303137-9de0-4b9e-879d-6d93f7eac672",
   "metadata": {},
   "outputs": [
    {
     "name": "stdout",
     "output_type": "stream",
     "text": [
      "[[1 2 3]\n",
      " [4 5 6]]\n"
     ]
    }
   ],
   "source": [
    "print(m[0:2:1])"
   ]
  },
  {
   "cell_type": "code",
   "execution_count": 37,
   "id": "6c302094-d723-4bed-b87e-c26398a35414",
   "metadata": {},
   "outputs": [
    {
     "name": "stdout",
     "output_type": "stream",
     "text": [
      "50\n",
      "30\n"
     ]
    }
   ],
   "source": [
    "import numpy as np\n",
    "import array\n",
    "m=array.array('i',[10,20,30,40,50,60])\n",
    "print(arr[4])\n",
    "print(arr[2])"
   ]
  },
  {
   "cell_type": "code",
   "execution_count": 49,
   "id": "8f1b07cf-03a2-41fd-8d74-539e10271922",
   "metadata": {},
   "outputs": [
    {
     "name": "stdout",
     "output_type": "stream",
     "text": [
      "1\n",
      "6\n"
     ]
    }
   ],
   "source": [
    "import numpy as np\n",
    "import array\n",
    "m=np.array([[1,2,3],[4,5,6]])\n",
    "print(m[0,0])\n",
    "print(m[1,2])"
   ]
  },
  {
   "cell_type": "code",
   "execution_count": 54,
   "id": "19ad15a7-325a-4c67-ac07-90eda7bacf1c",
   "metadata": {},
   "outputs": [
    {
     "name": "stdout",
     "output_type": "stream",
     "text": [
      "20\n"
     ]
    }
   ],
   "source": [
    "m=[10,20,30,40,50,60,70]\n",
    "print(m[1])"
   ]
  },
  {
   "cell_type": "code",
   "execution_count": 52,
   "id": "79ca497f-333f-4371-86c5-284b63524712",
   "metadata": {},
   "outputs": [
    {
     "name": "stdout",
     "output_type": "stream",
     "text": [
      "70\n"
     ]
    }
   ],
   "source": [
    "print(m[-1])"
   ]
  },
  {
   "cell_type": "code",
   "execution_count": 53,
   "id": "0f18f7bb-3fc0-48c3-85ed-ab25fcd5b231",
   "metadata": {},
   "outputs": [
    {
     "name": "stdout",
     "output_type": "stream",
     "text": [
      "[20, 30, 40]\n"
     ]
    }
   ],
   "source": [
    "print(m[1:4])"
   ]
  },
  {
   "cell_type": "code",
   "execution_count": 60,
   "id": "287336a3-4267-4c72-ba01-a672eeb4c368",
   "metadata": {},
   "outputs": [
    {
     "ename": "TypeError",
     "evalue": "'>' not supported between instances of 'array.array' and 'int'",
     "output_type": "error",
     "traceback": [
      "\u001b[0;31m---------------------------------------------------------------------------\u001b[0m",
      "\u001b[0;31mTypeError\u001b[0m                                 Traceback (most recent call last)",
      "Cell \u001b[0;32mIn[60], line 3\u001b[0m\n\u001b[1;32m      1\u001b[0m \u001b[38;5;28;01mimport\u001b[39;00m \u001b[38;5;21;01mnumpy\u001b[39;00m \u001b[38;5;28;01mas\u001b[39;00m \u001b[38;5;21;01mnp\u001b[39;00m\n\u001b[1;32m      2\u001b[0m m\u001b[38;5;241m=\u001b[39mnp\u001b[38;5;241m.\u001b[39marray([\u001b[38;5;241m10\u001b[39m,\u001b[38;5;241m20\u001b[39m,\u001b[38;5;241m30\u001b[39m,\u001b[38;5;241m40\u001b[39m,\u001b[38;5;241m50\u001b[39m])\n\u001b[0;32m----> 3\u001b[0m \u001b[38;5;28mprint\u001b[39m(m[arr\u001b[38;5;241m>\u001b[39m\u001b[38;5;241m20\u001b[39m])\n",
      "\u001b[0;31mTypeError\u001b[0m: '>' not supported between instances of 'array.array' and 'int'"
     ]
    }
   ],
   "source": [
    "m=np.array([10,20,30,40,50])\n",
    "print(m[arr>20])\n",
    "\n"
   ]
  },
  {
   "cell_type": "code",
   "execution_count": 61,
   "id": "75c27de2-defb-49b6-918b-1e3581522620",
   "metadata": {},
   "outputs": [
    {
     "ename": "TypeError",
     "evalue": "array indices must be integers",
     "output_type": "error",
     "traceback": [
      "\u001b[0;31m---------------------------------------------------------------------------\u001b[0m",
      "\u001b[0;31mTypeError\u001b[0m                                 Traceback (most recent call last)",
      "Cell \u001b[0;32mIn[61], line 1\u001b[0m\n\u001b[0;32m----> 1\u001b[0m \u001b[38;5;28mprint\u001b[39m(arr[(\u001b[38;5;241m1\u001b[39m,\u001b[38;5;241m3\u001b[39m)])\n",
      "\u001b[0;31mTypeError\u001b[0m: array indices must be integers"
     ]
    }
   ],
   "source": [
    "print(arr[(1,3)])"
   ]
  },
  {
   "cell_type": "code",
   "execution_count": 1,
   "id": "54ca7af6-f056-43ce-8130-b55a3e7138f6",
   "metadata": {},
   "outputs": [
    {
     "name": "stdout",
     "output_type": "stream",
     "text": [
      "[[1 2 5 6]\n",
      " [3 4 7 8]]\n"
     ]
    }
   ],
   "source": [
    "import numpy as np\n",
    "arr1=np.array([[1,2],[3,4]])\n",
    "arr2=([[5,6],[7,8]])\n",
    "result=np.hstack((arr1,arr2))\n",
    "print(result)"
   ]
  },
  {
   "cell_type": "code",
   "execution_count": 2,
   "id": "7e6c003e-91e4-44bf-a44f-9854c5ac13e2",
   "metadata": {},
   "outputs": [
    {
     "name": "stdout",
     "output_type": "stream",
     "text": [
      "[[1 2]\n",
      " [3 4]\n",
      " [5 6]\n",
      " [7 8]]\n"
     ]
    }
   ],
   "source": [
    "result=np.vstack((arr1,arr2))\n",
    "print(result)"
   ]
  },
  {
   "cell_type": "code",
   "execution_count": 3,
   "id": "a652c695-f254-4e33-9f3c-60c65370dfe0",
   "metadata": {},
   "outputs": [
    {
     "name": "stdout",
     "output_type": "stream",
     "text": [
      "[[[1 5]\n",
      "  [2 6]]\n",
      "\n",
      " [[3 7]\n",
      "  [4 8]]]\n"
     ]
    }
   ],
   "source": [
    "result=np.dstack((arr1,arr2))\n",
    "print(result)"
   ]
  },
  {
   "cell_type": "code",
   "execution_count": 8,
   "id": "c5b3bba0-968c-4654-a5ca-93f67570da60",
   "metadata": {},
   "outputs": [
    {
     "name": "stdout",
     "output_type": "stream",
     "text": [
      "[array([1, 2]), array([3, 4]), array([5])]\n"
     ]
    }
   ],
   "source": [
    "import numpy as np\n",
    "arr=np.array([1,2,3,4,5])\n",
    "result=np.array_split(arr,3)\n",
    "print(result)"
   ]
  },
  {
   "cell_type": "code",
   "execution_count": null,
   "id": "01ee7496-2d82-4b61-bc71-6bf335063ec4",
   "metadata": {},
   "outputs": [],
   "source": []
  },
  {
   "cell_type": "code",
   "execution_count": 9,
   "id": "b6766ae3-de7d-4c1f-be04-bfd50dd9d54d",
   "metadata": {},
   "outputs": [
    {
     "name": "stdout",
     "output_type": "stream",
     "text": [
      "[array([1, 2]), array([3, 4]), array([5, 6])]\n"
     ]
    }
   ],
   "source": [
    "import numpy as np\n",
    "arr=np.array([1,2,3,4,5,6])\n",
    "result=np.array_split(arr,3)\n",
    "print(result)"
   ]
  },
  {
   "cell_type": "code",
   "execution_count": null,
   "id": "d34eb901-4afd-4e30-b5d2-d32408e21b14",
   "metadata": {},
   "outputs": [],
   "source": []
  }
 ],
 "metadata": {
  "kernelspec": {
   "display_name": "Python 3 (ipykernel)",
   "language": "python",
   "name": "python3"
  },
  "language_info": {
   "codemirror_mode": {
    "name": "ipython",
    "version": 3
   },
   "file_extension": ".py",
   "mimetype": "text/x-python",
   "name": "python",
   "nbconvert_exporter": "python",
   "pygments_lexer": "ipython3",
   "version": "3.11.5"
  }
 },
 "nbformat": 4,
 "nbformat_minor": 5
}
